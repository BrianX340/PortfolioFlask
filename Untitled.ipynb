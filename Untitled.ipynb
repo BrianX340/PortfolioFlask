{
 "cells": [
  {
   "cell_type": "code",
   "execution_count": 9,
   "id": "electric-relevance",
   "metadata": {},
   "outputs": [],
   "source": [
    "nombre = \"Jose\""
   ]
  },
  {
   "cell_type": "code",
   "execution_count": 5,
   "id": "headed-conversion",
   "metadata": {},
   "outputs": [
    {
     "name": "stdout",
     "output_type": "stream",
     "text": [
      "0\n",
      "2\n",
      "4\n",
      "6\n",
      "8\n",
      "10\n",
      "12\n",
      "14\n",
      "16\n",
      "18\n"
     ]
    }
   ],
   "source": [
    "for x in range(10):\n",
    "    print(x*2)"
   ]
  },
  {
   "cell_type": "code",
   "execution_count": 4,
   "id": "simplified-shoot",
   "metadata": {},
   "outputs": [
    {
     "name": "stdout",
     "output_type": "stream",
     "text": [
      "Brian\n"
     ]
    }
   ],
   "source": [
    "print(nombre) #console.log"
   ]
  },
  {
   "cell_type": "code",
   "execution_count": 8,
   "id": "silver-testimony",
   "metadata": {},
   "outputs": [
    {
     "name": "stdout",
     "output_type": "stream",
     "text": [
      "10\n"
     ]
    }
   ],
   "source": [
    "def suma(x,y):\n",
    "    return x+y\n",
    "\n",
    "print( suma(9,1) )"
   ]
  },
  {
   "cell_type": "code",
   "execution_count": 12,
   "id": "smooth-stable",
   "metadata": {},
   "outputs": [
    {
     "data": {
      "text/plain": [
       "'brian'"
      ]
     },
     "execution_count": 12,
     "metadata": {},
     "output_type": "execute_result"
    }
   ],
   "source": [
    "nombre"
   ]
  },
  {
   "cell_type": "code",
   "execution_count": 11,
   "id": "compliant-survivor",
   "metadata": {},
   "outputs": [],
   "source": [
    "nombre = \"brian\""
   ]
  },
  {
   "cell_type": "code",
   "execution_count": 13,
   "id": "instructional-location",
   "metadata": {},
   "outputs": [
    {
     "data": {
      "text/plain": [
       "2"
      ]
     },
     "execution_count": 13,
     "metadata": {},
     "output_type": "execute_result"
    }
   ],
   "source": [
    "lista = [0,2]\n",
    "lista[1]"
   ]
  },
  {
   "cell_type": "code",
   "execution_count": 17,
   "id": "saved-gibson",
   "metadata": {},
   "outputs": [
    {
     "name": "stdout",
     "output_type": "stream",
     "text": [
      "la edad es 5\n"
     ]
    }
   ],
   "source": [
    "edad = 5\n",
    "\n",
    "if edad >= 18:\n",
    "    print(\"Es mayor\")\n",
    "elif edad == 5:\n",
    "    print(\"la edad es 5\")\n",
    "else:\n",
    "    print(\"Es Menor\")"
   ]
  },
  {
   "cell_type": "code",
   "execution_count": 18,
   "id": "interested-workshop",
   "metadata": {},
   "outputs": [
    {
     "data": {
      "text/plain": [
       "9"
      ]
     },
     "execution_count": 18,
     "metadata": {},
     "output_type": "execute_result"
    }
   ],
   "source": [
    "suma(4,5)"
   ]
  },
  {
   "cell_type": "code",
   "execution_count": 19,
   "id": "worst-funeral",
   "metadata": {},
   "outputs": [],
   "source": [
    "def suma(x,y):\n",
    "    return x+y\n"
   ]
  },
  {
   "cell_type": "code",
   "execution_count": null,
   "id": "thrown-xerox",
   "metadata": {},
   "outputs": [],
   "source": []
  }
 ],
 "metadata": {
  "kernelspec": {
   "display_name": "Python 3",
   "language": "python",
   "name": "python3"
  },
  "language_info": {
   "codemirror_mode": {
    "name": "ipython",
    "version": 3
   },
   "file_extension": ".py",
   "mimetype": "text/x-python",
   "name": "python",
   "nbconvert_exporter": "python",
   "pygments_lexer": "ipython3",
   "version": "3.8.8"
  }
 },
 "nbformat": 4,
 "nbformat_minor": 5
}
